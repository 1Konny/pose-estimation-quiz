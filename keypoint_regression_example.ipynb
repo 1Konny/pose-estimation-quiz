{
 "cells": [
  {
   "cell_type": "markdown",
   "metadata": {},
   "source": [
    "# An example of pipeline for CPM (Convolutional Pose Machine)"
   ]
  },
  {
   "cell_type": "code",
   "execution_count": 1,
   "metadata": {},
   "outputs": [],
   "source": [
    "import numpy as np\n",
    "import tensorflow as tf\n",
    "from tensorflow.keras import datasets, layers, models\n",
    "\n",
    "NUM_STAGES = 3\n",
    "NUM_TRAINING_STEPS = 100\n",
    "NUM_KEYPOINTS = 4\n",
    "BATCH_SIZE = 32\n",
    "\n",
    "x = tf.placeholder(tf.float32, shape=(None, 128, 128, 3))\n",
    "y = tf.placeholder(tf.float32, shape=(None, 16, 16, NUM_KEYPOINTS+1))"
   ]
  },
  {
   "cell_type": "markdown",
   "metadata": {},
   "source": [
    "# Define CPM modules"
   ]
  },
  {
   "cell_type": "code",
   "execution_count": 2,
   "metadata": {},
   "outputs": [],
   "source": [
    "def get_context_feature(x):\n",
    "    model = models.Sequential()\n",
    "    model.add(layers.Conv2D(32, (9, 9), activation='relu', padding='same', input_shape=(128, 128, 3)))\n",
    "    model.add(layers.MaxPool2D((2,2)))\n",
    "    model.add(layers.Conv2D(32, (9, 9), activation='relu', padding='same'))\n",
    "    model.add(layers.MaxPool2D((2,2)))\n",
    "    model.add(layers.Conv2D(32, (9, 9), activation='relu', padding='same'))\n",
    "    model.add(layers.MaxPool2D((2,2)))\n",
    "    model.add(layers.Conv2D(32, (5, 5), activation='relu', padding='same'))\n",
    "    #print(model.summary())\n",
    "\n",
    "    context_feature = model(x)\n",
    "    return context_feature\n",
    "\n",
    "\n",
    "def get_first_stage_heatmap(context_feature):\n",
    "    model = models.Sequential()\n",
    "    model.add(layers.Conv2D(32, (9, 9), activation='relu', padding='same'))\n",
    "    model.add(layers.Conv2D(32, (1, 1), activation='relu', padding='same'))\n",
    "    model.add(layers.Conv2D(NUM_KEYPOINTS+1, (1, 1), activation='relu', padding='same'))\n",
    "    #print(model.summary())\n",
    "    \n",
    "    first_stage_heatmap = model(context_feature)\n",
    "    return first_stage_heatmap\n",
    "\n",
    "\n",
    "def get_refined_heatmap(context_feature, previous_heatmap):    \n",
    "    model = models.Sequential()\n",
    "    model.add(layers.Conv2D(32+NUM_KEYPOINTS+1, (11, 11), activation='relu', padding='same'))\n",
    "    model.add(layers.Conv2D(32, (11, 11), activation='relu', padding='same'))\n",
    "    model.add(layers.Conv2D(32, (11, 11), activation='relu', padding='same'))\n",
    "    model.add(layers.Conv2D(32, (1, 1), activation='relu', padding='same'))\n",
    "    model.add(layers.Conv2D(NUM_KEYPOINTS+1, (1, 1), activation='relu', padding='same'))\n",
    "    #print(model.summary())\n",
    "\n",
    "    previous_outputs = tf.concat([context_feature, previous_heatmap], 3)\n",
    "    refined_heatmap = model(previous_outputs)\n",
    "    return refined_heatmap"
   ]
  },
  {
   "cell_type": "markdown",
   "metadata": {},
   "source": [
    "# Extract context feature map, and initial/refined heatmaps"
   ]
  },
  {
   "cell_type": "code",
   "execution_count": 3,
   "metadata": {},
   "outputs": [],
   "source": [
    "context_feature = get_context_feature(x)\n",
    "\n",
    "heatmaps = []\n",
    "current_heatmap = get_first_stage_heatmap(context_feature)\n",
    "heatmaps.append(current_heatmap)\n",
    "for i in range(NUM_STAGES-1):\n",
    "    previous_heatmap = heatmaps[-1]\n",
    "    current_heatmap = get_refined_heatmap(context_feature, previous_heatmap)\n",
    "    heatmaps.append(current_heatmap)"
   ]
  },
  {
   "cell_type": "markdown",
   "metadata": {},
   "source": [
    "# Calculate loss"
   ]
  },
  {
   "cell_type": "code",
   "execution_count": 4,
   "metadata": {},
   "outputs": [],
   "source": [
    "loss = 0.\n",
    "for heatmap in heatmaps:\n",
    "    loss += tf.reduce_sum(tf.nn.l2_loss(heatmap-y))"
   ]
  },
  {
   "cell_type": "markdown",
   "metadata": {},
   "source": [
    "# Initialize optimizer and session"
   ]
  },
  {
   "cell_type": "code",
   "execution_count": 5,
   "metadata": {},
   "outputs": [],
   "source": [
    "learning_rate = tf.Variable(0.0001)\n",
    "optimizer = tf.train.GradientDescentOptimizer(learning_rate)\n",
    "train = optimizer.minimize(loss)\n",
    "\n",
    "init = tf.global_variables_initializer()\n",
    "sess = tf.Session()\n",
    "sess.run(init)"
   ]
  },
  {
   "cell_type": "markdown",
   "metadata": {},
   "source": [
    "# Define fake data generator"
   ]
  },
  {
   "cell_type": "code",
   "execution_count": 6,
   "metadata": {},
   "outputs": [],
   "source": [
    "def preprocess_label(y, size):\n",
    "    y = tf.image.resize_images(y, (size, size))\n",
    "    return y\n",
    "\n",
    "def get_fake_data(batch_size):\n",
    "    images = np.random.rand(batch_size, 128, 128, 3)\n",
    "    ground_truth_heatmaps = np.random.rand(batch_size, 16, 16, NUM_KEYPOINTS+1)\n",
    "    return (images, ground_truth_heatmaps)"
   ]
  },
  {
   "cell_type": "markdown",
   "metadata": {},
   "source": [
    "# Run training"
   ]
  },
  {
   "cell_type": "code",
   "execution_count": 7,
   "metadata": {},
   "outputs": [
    {
     "name": "stdout",
     "output_type": "stream",
     "text": [
      "   0 20060.34\n",
      "  20 20626.52\n",
      "  40 20491.06\n",
      "  60 20367.55\n",
      "  80 20486.84\n"
     ]
    }
   ],
   "source": [
    "for step in range(NUM_TRAINING_STEPS):\n",
    "    images, labels = get_fake_data(BATCH_SIZE)\n",
    "    feed_dict = {x:images, y:labels}\n",
    "    _, loss_ = sess.run([train, loss], feed_dict=feed_dict)\n",
    "    if step % 20 == 0:\n",
    "        print('{:4} {:.2f}'.format(step, loss_))"
   ]
  }
 ],
 "metadata": {
  "kernelspec": {
   "display_name": "Python 3",
   "language": "python",
   "name": "python3"
  },
  "language_info": {
   "codemirror_mode": {
    "name": "ipython",
    "version": 3
   },
   "file_extension": ".py",
   "mimetype": "text/x-python",
   "name": "python",
   "nbconvert_exporter": "python",
   "pygments_lexer": "ipython3",
   "version": "3.6.8"
  }
 },
 "nbformat": 4,
 "nbformat_minor": 2
}
